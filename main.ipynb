{
 "cells": [
  {
   "cell_type": "markdown",
   "id": "ac451e9d-21de-48a8-9cdf-d05b81c058ca",
   "metadata": {},
   "source": [
    "![manufacturing gears](manufacturing.jpg)\n",
    "\n",
    "Manufacturing processes for any product is like putting together a puzzle. Products are pieced together step by step, and keeping a close eye on the process is important.\n",
    "\n",
    "For this project, you're supporting a team that wants to improve how they monitor and control a manufacturing process. The goal is to implement a more methodical approach known as statistical process control (SPC). SPC is an established strategy that uses data to determine whether the process works well. Processes are only adjusted if measurements fall outside of an acceptable range. \n",
    "\n",
    "This acceptable range is defined by an upper control limit (UCL) and a lower control limit (LCL), the formulas for which are:\n",
    "\n",
    "$ucl = avg\\_height + 3 * \\frac{stddev\\_height}{\\sqrt{5}}$\n",
    "\n",
    "$lcl = avg\\_height - 3 * \\frac{stddev\\_height}{\\sqrt{5}}$\n",
    "\n",
    "The UCL defines the highest acceptable height for the parts, while the LCL defines the lowest acceptable height for the parts. Ideally, parts should fall between the two limits.\n",
    "\n",
    "Using SQL window functions and nested queries, you'll analyze historical manufacturing data to define this acceptable range and identify any points in the process that fall outside of the range and therefore require adjustments. This will ensure a smooth running manufacturing process consistently making high-quality products.\n",
    "\n",
    "## The data\n",
    "The data is available in the `manufacturing_parts` table which has the following fields:\n",
    "- `item_no`: the item number\n",
    "- `length`: the length of the item made\n",
    "- `width`: the width of the item made\n",
    "- `height`: the height of the item made\n",
    "- `operator`: the operating machine"
   ]
  },
  {
   "cell_type": "code",
   "execution_count": 2,
   "id": "ed224ca1-d65f-4c02-b8db-372df731a6e8",
   "metadata": {
    "customType": "sql",
    "dataFrameVariableName": "alerts",
    "executionCancelledAt": null,
    "executionTime": null,
    "lastExecutedAt": null,
    "lastScheduledRunId": null,
    "lastSuccessfullyExecutedCode": null,
    "outputsMetadata": {
     "0": {
      "height": 327,
      "type": "dataFrame"
     }
    },
    "sqlCellMode": "dataFrame",
    "sqlSource": {
     "integrationId": "89e17161-a224-4a8a-846b-0adc0fe7a4b1",
     "integrationType": "postgresql",
     "type": "integration"
    }
   },
   "outputs": [],
   "source": [
    "-- Flag whether the height of a product is within the control limits\n",
    "SELECT\n",
    "\tb.*,\n",
    "\tCASE\n",
    "\t\tWHEN \n",
    "\t\t\tb.height NOT BETWEEN b.lcl AND b.ucl\n",
    "\t\tTHEN TRUE\n",
    "\t\tELSE FALSE\n",
    "\tEND as alert\n",
    "FROM (\n",
    "\tSELECT\n",
    "\t\ta.*, \n",
    "\t\ta.avg_height + 3*a.stddev_height/SQRT(5) AS ucl, \n",
    "\t\ta.avg_height - 3*a.stddev_height/SQRT(5) AS lcl  \n",
    "\tFROM (\n",
    "\t\tSELECT \n",
    "\t\t\toperator,\n",
    "\t\t\tROW_NUMBER() OVER w AS row_number, \n",
    "\t\t\theight, \n",
    "\t\t\tAVG(height) OVER w AS avg_height, \n",
    "\t\t\tSTDDEV(height) OVER w AS stddev_height\n",
    "\t\tFROM manufacturing_parts \n",
    "\t\tWINDOW w AS (\n",
    "\t\t\tPARTITION BY operator \n",
    "\t\t\tORDER BY item_no \n",
    "\t\t\tROWS BETWEEN 4 PRECEDING AND CURRENT ROW\n",
    "\t\t)\n",
    "\t) AS a\n",
    "\tWHERE a.row_number >= 5\n",
    ") AS b;"
   ]
  }
 ],
 "metadata": {
  "colab": {
   "name": "Welcome to DataCamp Workspaces.ipynb",
   "provenance": []
  },
  "kernelspec": {
   "display_name": "Python 3",
   "language": "python",
   "name": "python3"
  },
  "language_info": {
   "codemirror_mode": {
    "name": "ipython",
    "version": 3
   },
   "file_extension": ".py",
   "mimetype": "text/x-python",
   "name": "python",
   "nbconvert_exporter": "python",
   "pygments_lexer": "ipython3",
   "version": "3.12.6"
  }
 },
 "nbformat": 4,
 "nbformat_minor": 5
}
